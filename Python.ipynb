{
 "cells": [
  {
   "cell_type": "markdown",
   "metadata": {},
   "source": [
    "## Python"
   ]
  },
  {
   "cell_type": "code",
   "execution_count": 1,
   "metadata": {},
   "outputs": [],
   "source": [
    "import json\n",
    "import requests\n",
    "\n",
    "#  https://the-odds-api.com/\n",
    "API_KEY = \"GET_YOUR_OWN\"\n"
   ]
  },
  {
   "cell_type": "code",
   "execution_count": 2,
   "metadata": {},
   "outputs": [],
   "source": [
    "class SportsRequestError(Exception):\n",
    "    pass\n",
    "\n",
    "\n",
    "class SportsOddsRequestError(Exception):\n",
    "    pass\n",
    "\n",
    "\n",
    "def get_sports() -> dict:\n",
    "    sports_response = requests.get(\"https://api.the-odds-api.com/v3/sports\", params={\n",
    "        \"api_key\": API_KEY\n",
    "    })\n",
    "\n",
    "    sports_json = json.loads(sports_response.text)\n",
    "    if not sports_json[\"success\"]:\n",
    "        raise SportsRequestError(sports_json[\"msg\"])\n",
    "    return sports_json['data']\n"
   ]
  },
  {
   "cell_type": "code",
   "execution_count": 3,
   "metadata": {},
   "outputs": [],
   "source": [
    "sports = get_sports()"
   ]
  },
  {
   "cell_type": "code",
   "execution_count": 4,
   "metadata": {},
   "outputs": [
    {
     "data": {
      "text/plain": [
       "23"
      ]
     },
     "execution_count": 4,
     "metadata": {},
     "output_type": "execute_result"
    }
   ],
   "source": [
    "len(sports)"
   ]
  },
  {
   "cell_type": "code",
   "execution_count": 5,
   "metadata": {},
   "outputs": [
    {
     "data": {
      "text/plain": [
       "{'key': 'americanfootball_ncaaf',\n",
       " 'active': True,\n",
       " 'group': 'American Football',\n",
       " 'details': 'US College Football',\n",
       " 'title': 'NCAAF',\n",
       " 'has_outrights': False}"
      ]
     },
     "execution_count": 5,
     "metadata": {},
     "output_type": "execute_result"
    }
   ],
   "source": [
    "sports[0]"
   ]
  },
  {
   "cell_type": "code",
   "execution_count": 6,
   "metadata": {},
   "outputs": [
    {
     "data": {
      "text/plain": [
       "[{'key': 'americanfootball_ncaaf',\n",
       "  'active': True,\n",
       "  'group': 'American Football',\n",
       "  'details': 'US College Football',\n",
       "  'title': 'NCAAF',\n",
       "  'has_outrights': False},\n",
       " {'key': 'americanfootball_nfl',\n",
       "  'active': True,\n",
       "  'group': 'American Football',\n",
       "  'details': 'US Football',\n",
       "  'title': 'NFL',\n",
       "  'has_outrights': False},\n",
       " {'key': 'aussierules_afl',\n",
       "  'active': True,\n",
       "  'group': 'Aussie Rules',\n",
       "  'details': 'Aussie Football',\n",
       "  'title': 'AFL',\n",
       "  'has_outrights': False}]"
      ]
     },
     "execution_count": 6,
     "metadata": {},
     "output_type": "execute_result"
    }
   ],
   "source": [
    "sports[:3]"
   ]
  },
  {
   "cell_type": "code",
   "execution_count": 7,
   "metadata": {},
   "outputs": [],
   "source": [
    "sports_keys = [sport[\"key\"] for sport in sports]"
   ]
  },
  {
   "cell_type": "code",
   "execution_count": 8,
   "metadata": {},
   "outputs": [
    {
     "data": {
      "text/plain": [
       "['americanfootball_ncaaf',\n",
       " 'americanfootball_nfl',\n",
       " 'aussierules_afl',\n",
       " 'cricket_test_match',\n",
       " 'esports_lol',\n",
       " 'mma_mixed_martial_arts',\n",
       " 'rugbyleague_nrl',\n",
       " 'soccer_denmark_superliga',\n",
       " 'soccer_epl',\n",
       " 'soccer_fa_cup',\n",
       " 'soccer_germany_bundesliga',\n",
       " 'soccer_germany_bundesliga2',\n",
       " 'soccer_italy_serie_a',\n",
       " 'soccer_korea_kleague1',\n",
       " 'soccer_norway_eliteserien',\n",
       " 'soccer_portugal_primeira_liga',\n",
       " 'soccer_russia_premier_league',\n",
       " 'soccer_spain_la_liga',\n",
       " 'soccer_spain_segunda_division',\n",
       " 'soccer_sweden_allsvenskan',\n",
       " 'soccer_sweden_superettan',\n",
       " 'soccer_switzerland_superleague',\n",
       " 'soccer_turkey_super_league']"
      ]
     },
     "execution_count": 8,
     "metadata": {},
     "output_type": "execute_result"
    }
   ],
   "source": [
    "sports_keys"
   ]
  },
  {
   "cell_type": "code",
   "execution_count": 10,
   "metadata": {},
   "outputs": [],
   "source": [
    "def get_sport_odds(sport_key: str) -> dict:\n",
    "    odds_response = requests.get('https://api.the-odds-api.com/v3/odds', params={\n",
    "        \"api_key\": API_KEY,\n",
    "        \"sport\": sport_key,\n",
    "        \"region\": \"uk\", # uk | us | eu | au\n",
    "        \"mkt\": \"h2h\" # h2h | spreads | totals\n",
    "    })\n",
    "    odds_json = json.loads(odds_response.text)\n",
    "    if not odds_json[\"success\"]:\n",
    "        raise SportsOddsRequestError(odds_json[\"msg\"])\n",
    "    return odds_json[\"data\"]\n"
   ]
  },
  {
   "cell_type": "code",
   "execution_count": 12,
   "metadata": {},
   "outputs": [],
   "source": [
    "sport_odds = get_sport_odds(\"soccer_spain_segunda_division\")"
   ]
  },
  {
   "cell_type": "code",
   "execution_count": 13,
   "metadata": {},
   "outputs": [
    {
     "data": {
      "text/plain": [
       "22"
      ]
     },
     "execution_count": 13,
     "metadata": {},
     "output_type": "execute_result"
    }
   ],
   "source": [
    "len(sport_odds)"
   ]
  },
  {
   "cell_type": "code",
   "execution_count": 14,
   "metadata": {},
   "outputs": [
    {
     "data": {
      "text/plain": [
       "{'sport_key': 'soccer_spain_segunda_division',\n",
       " 'sport_nice': 'La Liga 2 - Spain',\n",
       " 'teams': ['Málaga', 'SD Huesca'],\n",
       " 'commence_time': 1591983000,\n",
       " 'home_team': 'Málaga',\n",
       " 'sites': [{'site_key': 'onexbet',\n",
       "   'site_nice': '1xBet',\n",
       "   'last_update': 1591506454,\n",
       "   'odds': {'h2h': [2.62, 2.9, 3.12]}},\n",
       "  {'site_key': 'paddypower',\n",
       "   'site_nice': 'Paddy Power',\n",
       "   'last_update': 1591506606,\n",
       "   'odds': {'h2h': [2.4, 2.8, 3.0]}},\n",
       "  {'site_key': 'williamhill',\n",
       "   'site_nice': 'William Hill',\n",
       "   'last_update': 1591506406,\n",
       "   'odds': {'h2h': [2.55, 2.88, 3.0]}},\n",
       "  {'site_key': 'sport888',\n",
       "   'site_nice': '888sport',\n",
       "   'last_update': 1591506601,\n",
       "   'odds': {'h2h': [2.48, 2.8, 3.0]}},\n",
       "  {'site_key': 'unibet',\n",
       "   'site_nice': 'Unibet',\n",
       "   'last_update': 1591506314,\n",
       "   'odds': {'h2h': [2.48, 2.8, 3.0]}},\n",
       "  {'site_key': 'betvictor',\n",
       "   'site_nice': 'Bet Victor',\n",
       "   'last_update': 1591506595,\n",
       "   'odds': {'h2h': [2.6, 3.0, 3.0]}},\n",
       "  {'site_key': 'marathonbet',\n",
       "   'site_nice': 'Marathon Bet',\n",
       "   'last_update': 1591506558,\n",
       "   'odds': {'h2h': [2.6, 2.91, 3.12]}},\n",
       "  {'site_key': 'skybet',\n",
       "   'site_nice': 'Sky Bet',\n",
       "   'last_update': 1591506451,\n",
       "   'odds': {'h2h': [2.45, 2.7, 2.9]}},\n",
       "  {'site_key': 'betfair',\n",
       "   'site_nice': 'Betfair',\n",
       "   'last_update': 1591506575,\n",
       "   'odds': {'h2h': [1.01, 2.72, 2.86], 'h2h_lay': [3.1, 3.65, 950.0]}},\n",
       "  {'site_key': 'matchbook',\n",
       "   'site_nice': 'Matchbook',\n",
       "   'last_update': 1591506585,\n",
       "   'odds': {'h2h': [2.17, 2.39, 2.55], 'h2h_lay': [3.6, 4.5, 4.75]}}],\n",
       " 'sites_count': 10}"
      ]
     },
     "execution_count": 14,
     "metadata": {},
     "output_type": "execute_result"
    }
   ],
   "source": [
    "sport_odds[0]"
   ]
  },
  {
   "cell_type": "markdown",
   "metadata": {},
   "source": [
    "***"
   ]
  }
 ],
 "metadata": {
  "kernelspec": {
   "display_name": "py36",
   "language": "python",
   "name": "py36"
  },
  "language_info": {
   "codemirror_mode": {
    "name": "ipython",
    "version": 3
   },
   "file_extension": ".py",
   "mimetype": "text/x-python",
   "name": "python",
   "nbconvert_exporter": "python",
   "pygments_lexer": "ipython3",
   "version": "3.6.6"
  }
 },
 "nbformat": 4,
 "nbformat_minor": 2
}

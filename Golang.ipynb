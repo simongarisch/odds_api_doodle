{
 "cells": [
  {
   "cell_type": "markdown",
   "metadata": {},
   "source": [
    "## Golang"
   ]
  },
  {
   "cell_type": "code",
   "execution_count": 24,
   "metadata": {},
   "outputs": [],
   "source": [
    "import \"net/http\"\n",
    "\n",
    "// https://the-odds-api.com/\n",
    "var API_KEY = \"GET_YOUR_OWN\"\n",
    "\n",
    "func getSportsResponse() (*http.Response, error){\n",
    "    var res *http.Response\n",
    "    var err error\n",
    "\n",
    "    client := &http.Client{}\n",
    "\n",
    "    req, err := http.NewRequest(\"GET\", \"https://api.the-odds-api.com/v3/sports\", nil)\n",
    "    if err != nil {\n",
    "        return res, err\n",
    "    }\n",
    "\n",
    "    q := req.URL.Query()\n",
    "    q.Add(\"api_key\", API_KEY)\n",
    "    req.URL.RawQuery = q.Encode()\n",
    "    \n",
    "    return client.Do(req)\n",
    "}\n"
   ]
  },
  {
   "cell_type": "code",
   "execution_count": 25,
   "metadata": {},
   "outputs": [],
   "source": [
    "res, err := getSportsResponse()"
   ]
  },
  {
   "cell_type": "code",
   "execution_count": 26,
   "metadata": {},
   "outputs": [
    {
     "data": {
      "text/plain": [
       "&{200 OK 200 HTTP/2.0 2 0 map[X-Requests-Used:[3] X-Amzn-Trace-Id:[Root=1-5edc7bab-595211b1b163ce3b5573478d;Sampled=0] X-Cache:[Miss from cloudfront] Via:[1.1 0376479bf82ad53b72305db1fb2a28c8.cloudfront.net (CloudFront)] X-Amzn-Requestid:[88183598-5ca0-4b97-a2ae-9fa8fac098b0] X-Requests-Remaining:[497] X-Amzn-Remapped-Content-Length:[3800] Date:[Sun, 07 Jun 2020 05:31:24 GMT] Access-Control-Allow-Origin:[*] X-Amz-Apigw-Id:[NvhC4FA-ywMF-Aw=] Access-Control-Expose-Headers:[X-Requests-Remaining, X-Requests-Used] X-Amz-Cf-Pop:[SYD4-C1] Content-Type:[application/json] X-Amz-Cf-Id:[TOSsqiU3Ttrd9cyDOdiu5EUv1blT_yY-BxH17v7rYw0LqxkfJlXu0A==]] 0xc00027df20 -1 [] false true map[] 0xc0000b8c00 0xc0000da6e0}"
      ]
     },
     "execution_count": 26,
     "metadata": {},
     "output_type": "execute_result"
    }
   ],
   "source": [
    "res"
   ]
  },
  {
   "cell_type": "code",
   "execution_count": 27,
   "metadata": {},
   "outputs": [],
   "source": [
    "import \"io/ioutil\"\n",
    "\n",
    "data, _ := ioutil.ReadAll(res.Body)"
   ]
  },
  {
   "cell_type": "code",
   "execution_count": 30,
   "metadata": {},
   "outputs": [
    {
     "data": {
      "text/plain": [
       "{\"success\":true,\"data\":[{\"key\":\"americanfootball_ncaaf\",\"active\":true,\"group\":\"American Football\",\"details\":\"US College Football\",\"title\":\"NCAAF\",\"has_outrights\":false},{\"key\":\"americanfootball_nfl\",\"active\":true,\"group\":\"American Football\",\"details\":\"US Football\",\"title\":\"NFL\",\"has_outrights\":false},{\"key\":\"aussierules_afl\",\"active\":true,\"group\":\"Aussie Rules\",\"details\":\"Aussie Football\",\"title\":\"AFL\",\"has_outrights\":false},{\"key\":\"cricket_test_match\",\"active\":true,\"group\":\"Cricket\",\"details\":\"International Test Matches\",\"title\":\"Test Matches\",\"has_outrights\":false},{\"key\":\"esports_lol\",\"active\":true,\"group\":\"Esports\",\"details\":\"LCS, LEC, LCK, LPL\",\"title\":\"League of Legends\",\"has_outrights\":false},{\"key\":\"mma_mixed_martial_arts\",\"active\":true,\"group\":\"Mixed Martial Arts\",\"details\":\"Mixed Martial Arts\",\"title\":\"MMA\",\"has_outrights\":false},{\"key\":\"rugbyleague_nrl\",\"active\":true,\"group\":\"Rugby League\",\"details\":\"Aussie Rugby League\",\"title\":\"NRL\",\"has_outrights\":false},{\"key\":\"soccer_denmark_superliga\",\"active\":true,\"group\":\"Soccer - Europe\",\"details\":\"Danish Soccer \\ud83c\\udde9\\ud83c\\uddf0\",\"title\":\"Denmark Superliga\",\"has_outrights\":false},{\"key\":\"soccer_epl\",\"active\":true,\"group\":\"Soccer - UK\",\"details\":\"English Premier League \\ud83c\\uddec\\ud83c\\udde7\",\"title\":\"EPL\",\"has_outrights\":false},{\"key\":\"soccer_fa_cup\",\"active\":true,\"group\":\"Soccer - UK\",\"details\":\"English FA Cup \\ud83c\\uddec\\ud83c\\udde7\",\"title\":\"FA Cup\",\"has_outrights\":false},{\"key\":\"soccer_germany_bundesliga\",\"active\":true,\"group\":\"Soccer - Europe\",\"details\":\"German Soccer \\ud83c\\udde9\\ud83c\\uddea\",\"title\":\"Bundesliga - Germany\",\"has_outrights\":false},{\"key\":\"soccer_germany_bundesliga2\",\"active\":true,\"group\":\"Soccer - Europe\",\"details\":\"German Soccer \\ud83c\\udde9\\ud83c\\uddea\",\"title\":\"Bundesliga 2 - Germany\",\"has_outrights\":false},{\"key\":\"soccer_italy_serie_a\",\"active\":true,\"group\":\"Soccer - Europe\",\"details\":\"Italian Soccer \\ud83c\\uddee\\ud83c\\uddf9\",\"title\":\"Serie A - Italy\",\"has_outrights\":false},{\"key\":\"soccer_korea_kleague1\",\"active\":true,\"group\":\"Soccer - Other\",\"details\":\"Korean Soccer \\ud83c\\uddf0\\ud83c\\uddf7\",\"title\":\"K League 1\",\"has_outrights\":false},{\"key\":\"soccer_norway_eliteserien\",\"active\":true,\"group\":\"Soccer - Europe\",\"details\":\"Norwegian Soccer \\ud83c\\uddf3\\ud83c\\uddf4\",\"title\":\"Eliteserien - Norway\",\"has_outrights\":false},{\"key\":\"soccer_portugal_primeira_liga\",\"active\":true,\"group\":\"Soccer - Europe\",\"details\":\"Portugese Soccer \\ud83c\\uddf5\\ud83c\\uddf9\",\"title\":\"Primeira Liga - Portugal\",\"has_outrights\":false},{\"key\":\"soccer_russia_premier_league\",\"active\":true,\"group\":\"Soccer - Europe\",\"details\":\"Russian Soccer \\ud83c\\uddf7\\ud83c\\uddfa\",\"title\":\"Premier League - Russia\",\"has_outrights\":false},{\"key\":\"soccer_spain_la_liga\",\"active\":true,\"group\":\"Soccer - Europe\",\"details\":\"Spanish Soccer \\ud83c\\uddea\\ud83c\\uddf8\",\"title\":\"La Liga - Spain\",\"has_outrights\":false},{\"key\":\"soccer_spain_segunda_division\",\"active\":true,\"group\":\"Soccer - Europe\",\"details\":\"Spanish Soccer \\ud83c\\uddea\\ud83c\\uddf8\",\"title\":\"La Liga 2 - Spain\",\"has_outrights\":false},{\"key\":\"soccer_sweden_allsvenskan\",\"active\":true,\"group\":\"Soccer - Europe\",\"details\":\"Swedish Soccer \\ud83c\\uddf8\\ud83c\\uddea\",\"title\":\"Allsvenskan - Sweden\",\"has_outrights\":false},{\"key\":\"soccer_sweden_superettan\",\"active\":true,\"group\":\"Soccer - Europe\",\"details\":\"Swedish Soccer \\ud83c\\uddf8\\ud83c\\uddea\",\"title\":\"Superettan - Sweden\",\"has_outrights\":false},{\"key\":\"soccer_switzerland_superleague\",\"active\":true,\"group\":\"Soccer - Europe\",\"details\":\"Swiss Soccer \\ud83c\\udde8\\ud83c\\udded\",\"title\":\"Swiss Superleague\",\"has_outrights\":false},{\"key\":\"soccer_turkey_super_league\",\"active\":true,\"group\":\"Soccer - Europe\",\"details\":\"Turkish Soccer \\ud83c\\uddf9\\ud83c\\uddf7\",\"title\":\"Turkey Super League\",\"has_outrights\":false}]}\n"
      ]
     },
     "execution_count": 30,
     "metadata": {},
     "output_type": "execute_result"
    }
   ],
   "source": [
    "string(data)"
   ]
  },
  {
   "cell_type": "code",
   "execution_count": 31,
   "metadata": {},
   "outputs": [],
   "source": [
    "// https://mholt.github.io/json-to-go/\n",
    "type Sports struct {\n",
    "    Success bool `json:\"success\"`\n",
    "    Data    []struct {\n",
    "        Key          string `json:\"key\"`\n",
    "        Active       bool   `json:\"active\"`\n",
    "        Group        string `json:\"group\"`\n",
    "        Details      string `json:\"details\"`\n",
    "        Title        string `json:\"title\"`\n",
    "        HasOutrights bool   `json:\"has_outrights\"`\n",
    "    } `json:\"data\"`\n",
    "}"
   ]
  },
  {
   "cell_type": "code",
   "execution_count": 33,
   "metadata": {},
   "outputs": [],
   "source": [
    "import \"encoding/json\"\n",
    "\n",
    "sports := Sports{}\n",
    "err := json.Unmarshal(data, &sports)\n",
    "err"
   ]
  },
  {
   "cell_type": "code",
   "execution_count": 34,
   "metadata": {},
   "outputs": [
    {
     "data": {
      "text/plain": [
       "{true [{americanfootball_ncaaf true American Football US College Football NCAAF false} {americanfootball_nfl true American Football US Football NFL false} {aussierules_afl true Aussie Rules Aussie Football AFL false} {cricket_test_match true Cricket International Test Matches Test Matches false} {esports_lol true Esports LCS, LEC, LCK, LPL League of Legends false} {mma_mixed_martial_arts true Mixed Martial Arts Mixed Martial Arts MMA false} {rugbyleague_nrl true Rugby League Aussie Rugby League NRL false} {soccer_denmark_superliga true Soccer - Europe Danish Soccer 🇩🇰 Denmark Superliga false} {soccer_epl true Soccer - UK English Premier League 🇬🇧 EPL false} {soccer_fa_cup true Soccer - UK English FA Cup 🇬🇧 FA Cup false} {soccer_germany_bundesliga true Soccer - Europe German Soccer 🇩🇪 Bundesliga - Germany false} {soccer_germany_bundesliga2 true Soccer - Europe German Soccer 🇩🇪 Bundesliga 2 - Germany false} {soccer_italy_serie_a true Soccer - Europe Italian Soccer 🇮🇹 Serie A - Italy false} {soccer_korea_kleague1 true Soccer - Other Korean Soccer 🇰🇷 K League 1 false} {soccer_norway_eliteserien true Soccer - Europe Norwegian Soccer 🇳🇴 Eliteserien - Norway false} {soccer_portugal_primeira_liga true Soccer - Europe Portugese Soccer 🇵🇹 Primeira Liga - Portugal false} {soccer_russia_premier_league true Soccer - Europe Russian Soccer 🇷🇺 Premier League - Russia false} {soccer_spain_la_liga true Soccer - Europe Spanish Soccer 🇪🇸 La Liga - Spain false} {soccer_spain_segunda_division true Soccer - Europe Spanish Soccer 🇪🇸 La Liga 2 - Spain false} {soccer_sweden_allsvenskan true Soccer - Europe Swedish Soccer 🇸🇪 Allsvenskan - Sweden false} {soccer_sweden_superettan true Soccer - Europe Swedish Soccer 🇸🇪 Superettan - Sweden false} {soccer_switzerland_superleague true Soccer - Europe Swiss Soccer 🇨🇭 Swiss Superleague false} {soccer_turkey_super_league true Soccer - Europe Turkish Soccer 🇹🇷 Turkey Super League false}]}"
      ]
     },
     "execution_count": 34,
     "metadata": {},
     "output_type": "execute_result"
    }
   ],
   "source": [
    "sports"
   ]
  },
  {
   "cell_type": "code",
   "execution_count": 35,
   "metadata": {},
   "outputs": [
    {
     "data": {
      "text/plain": [
       "true"
      ]
     },
     "execution_count": 35,
     "metadata": {},
     "output_type": "execute_result"
    }
   ],
   "source": [
    "sports.Success"
   ]
  },
  {
   "cell_type": "code",
   "execution_count": 36,
   "metadata": {},
   "outputs": [
    {
     "data": {
      "text/plain": [
       "{americanfootball_ncaaf true American Football US College Football NCAAF false}"
      ]
     },
     "execution_count": 36,
     "metadata": {},
     "output_type": "execute_result"
    }
   ],
   "source": [
    "sports.Data[0]"
   ]
  },
  {
   "cell_type": "code",
   "execution_count": 37,
   "metadata": {},
   "outputs": [
    {
     "data": {
      "text/plain": [
       "americanfootball_ncaaf"
      ]
     },
     "execution_count": 37,
     "metadata": {},
     "output_type": "execute_result"
    }
   ],
   "source": [
    "sports.Data[0].Key"
   ]
  },
  {
   "cell_type": "code",
   "execution_count": 39,
   "metadata": {},
   "outputs": [],
   "source": [
    "// putting this together for processing the sports response\n",
    "import (\n",
    "    \"encoding/json\"\n",
    "    \"io/ioutil\"\n",
    ")\n",
    "\n",
    "type Sports struct {\n",
    "    Success bool `json:\"success\"`\n",
    "    Data    []struct {\n",
    "        Key          string `json:\"key\"`\n",
    "        Active       bool   `json:\"active\"`\n",
    "        Group        string `json:\"group\"`\n",
    "        Details      string `json:\"details\"`\n",
    "        Title        string `json:\"title\"`\n",
    "        HasOutrights bool   `json:\"has_outrights\"`\n",
    "    } `json:\"data\"`\n",
    "}\n",
    "\n",
    "func getSports() (Sports, error){\n",
    "    sports := Sports{}\n",
    "    \n",
    "    res, err := getSportsResponse()\n",
    "    if err != nil {\n",
    "        return sports, err\n",
    "    }\n",
    "\n",
    "    data, err := ioutil.ReadAll(res.Body)\n",
    "    if err != nil {\n",
    "        return sports, err\n",
    "    }\n",
    "\n",
    "    err := json.Unmarshal(data, &sports)\n",
    "    return sports, err\n",
    "}"
   ]
  },
  {
   "cell_type": "code",
   "execution_count": 40,
   "metadata": {},
   "outputs": [],
   "source": [
    "sports, err := getSports()"
   ]
  },
  {
   "cell_type": "code",
   "execution_count": 42,
   "metadata": {},
   "outputs": [
    {
     "data": {
      "text/plain": [
       "true"
      ]
     },
     "execution_count": 42,
     "metadata": {},
     "output_type": "execute_result"
    }
   ],
   "source": [
    "sports.Success"
   ]
  },
  {
   "cell_type": "markdown",
   "metadata": {},
   "source": [
    "Use this sports struct to extract keys..."
   ]
  },
  {
   "cell_type": "code",
   "execution_count": 66,
   "metadata": {},
   "outputs": [
    {
     "data": {
      "text/plain": [
       "[americanfootball_ncaaf americanfootball_nfl aussierules_afl cricket_test_match esports_lol mma_mixed_martial_arts rugbyleague_nrl soccer_denmark_superliga soccer_epl soccer_fa_cup soccer_germany_bundesliga soccer_germany_bundesliga2 soccer_italy_serie_a soccer_korea_kleague1 soccer_norway_eliteserien soccer_portugal_primeira_liga soccer_russia_premier_league soccer_spain_la_liga soccer_spain_segunda_division soccer_sweden_allsvenskan soccer_sweden_superettan soccer_switzerland_superleague soccer_turkey_super_league]"
      ]
     },
     "execution_count": 66,
     "metadata": {},
     "output_type": "execute_result"
    }
   ],
   "source": [
    "var keys []string\n",
    "\n",
    "for _, sport := range sports.Data {\n",
    "    keys = append(keys, sport.Key)\n",
    "}\n",
    "\n",
    "keys"
   ]
  },
  {
   "cell_type": "markdown",
   "metadata": {},
   "source": [
    "Now get the odds for a particular sport."
   ]
  },
  {
   "cell_type": "code",
   "execution_count": 73,
   "metadata": {},
   "outputs": [],
   "source": [
    "func getSportOddsResponse(sportKey string) (*http.Response, error){\n",
    "    var res *http.Response\n",
    "    var err error\n",
    "\n",
    "    client := &http.Client{}\n",
    "\n",
    "    req, err := http.NewRequest(\"GET\", \"https://api.the-odds-api.com/v3/odds\", nil)\n",
    "    if err != nil {\n",
    "        return res, err\n",
    "    }\n",
    "\n",
    "    q := req.URL.Query()\n",
    "    q.Add(\"api_key\", API_KEY)\n",
    "    q.Add(\"sport\", sportKey)\n",
    "    q.Add(\"region\", \"uk\")  // uk | us | eu | au\n",
    "    q.Add(\"mkt\", \"h2h\")    // h2h | spreads | totals\n",
    "    req.URL.RawQuery = q.Encode()\n",
    "    \n",
    "    return client.Do(req)\n",
    "}\n"
   ]
  },
  {
   "cell_type": "code",
   "execution_count": 74,
   "metadata": {},
   "outputs": [],
   "source": [
    "res, err := getSportOddsResponse(\"soccer_spain_segunda_division\")"
   ]
  },
  {
   "cell_type": "code",
   "execution_count": null,
   "metadata": {},
   "outputs": [],
   "source": [
    "data, _ := ioutil.ReadAll(res.Body)\n",
    "string(data)"
   ]
  },
  {
   "cell_type": "code",
   "execution_count": 100,
   "metadata": {},
   "outputs": [],
   "source": [
    "type AutoGenerated struct {\n",
    "    Success bool `json:\"success\"`\n",
    "    Data    []struct {\n",
    "        SportKey     string   `json:\"sport_key\"`\n",
    "        SportNice    string   `json:\"sport_nice\"`\n",
    "        Teams        []string `json:\"teams\"`\n",
    "        CommenceTime int      `json:\"commence_time\"`\n",
    "        HomeTeam     string   `json:\"home_team\"`\n",
    "        Sites        []struct {\n",
    "            SiteKey    string `json:\"site_key\"`\n",
    "            SiteNice   string `json:\"site_nice\"`\n",
    "            LastUpdate int    `json:\"last_update\"`\n",
    "            Odds       struct {\n",
    "                H2H []float64 `json:\"h2h\"`\n",
    "            } `json:\"odds,omitempty\"`\n",
    "            OddsLay struct {\n",
    "                H2H    []float64 `json:\"h2h\"`\n",
    "                H2HLay []float64 `json:\"h2h_lay\"`\n",
    "            } `json:\"odds,omitempty\"`\n",
    "        } `json:\"sites\"`\n",
    "        SitesCount int `json:\"sites_count\"`\n",
    "    } `json:\"data\"`\n",
    "}\n"
   ]
  },
  {
   "cell_type": "code",
   "execution_count": 98,
   "metadata": {},
   "outputs": [],
   "source": [
    "func getSportOdds(sportKey string) (SportOdds, error){\n",
    "    sportOdds := SportOdds{}\n",
    "\n",
    "    res, err := getSportOddsResponse(sportKey)\n",
    "    if err != nil {\n",
    "        return sportOdds, err\n",
    "    }\n",
    "\n",
    "    data, err := ioutil.ReadAll(res.Body)\n",
    "    if err != nil {\n",
    "        return sportOdds, err\n",
    "    }\n",
    "\n",
    "    err := json.Unmarshal(data, &sportOdds)\n",
    "    return sportOdds, err\n",
    "}"
   ]
  },
  {
   "cell_type": "code",
   "execution_count": 101,
   "metadata": {},
   "outputs": [],
   "source": [
    "sportOdds, err := getSportOdds(\"soccer_spain_segunda_division\")"
   ]
  },
  {
   "cell_type": "code",
   "execution_count": 102,
   "metadata": {},
   "outputs": [
    {
     "data": {
      "text/plain": [
       "true"
      ]
     },
     "execution_count": 102,
     "metadata": {},
     "output_type": "execute_result"
    }
   ],
   "source": [
    "sportOdds.Success"
   ]
  },
  {
   "cell_type": "code",
   "execution_count": 109,
   "metadata": {},
   "outputs": [
    {
     "data": {
      "text/plain": [
       "{soccer_spain_segunda_division La Liga 2 - Spain [Málaga SD Huesca] 1591983000 Málaga [{onexbet 1xBet 1591509773 {[2.62 2.9 3.12]}} {paddypower Paddy Power 1591509937 {[2.4 2.8 3]}} {williamhill William Hill 1591509443 {[2.55 2.88 3]}} {sport888 888sport 1591509930 {[2.48 2.8 3]}} {unibet Unibet 1591509925 {[2.48 2.8 3]}} {betvictor Bet Victor 1591509963 {[2.6 3 3]}} {marathonbet Marathon Bet 1591509893 {[2.6 2.91 3.12]}} {skybet Sky Bet 1591509783 {[2.45 2.7 2.9]}} {betfair Betfair 1591509893 {[1.01 2.72 2.86]}} {matchbook Matchbook 1591509909 {[2.15 2.4 2.5]}}] 10}"
      ]
     },
     "execution_count": 109,
     "metadata": {},
     "output_type": "execute_result"
    }
   ],
   "source": [
    "first := sportOdds.Data[0]\n",
    "first"
   ]
  },
  {
   "cell_type": "code",
   "execution_count": 110,
   "metadata": {},
   "outputs": [
    {
     "data": {
      "text/plain": [
       "soccer_spain_segunda_division"
      ]
     },
     "execution_count": 110,
     "metadata": {},
     "output_type": "execute_result"
    }
   ],
   "source": [
    "first.SportKey"
   ]
  },
  {
   "cell_type": "code",
   "execution_count": 111,
   "metadata": {},
   "outputs": [
    {
     "data": {
      "text/plain": [
       "[{onexbet 1xBet 1591509773 {[2.62 2.9 3.12]}} {paddypower Paddy Power 1591509937 {[2.4 2.8 3]}} {williamhill William Hill 1591509443 {[2.55 2.88 3]}} {sport888 888sport 1591509930 {[2.48 2.8 3]}} {unibet Unibet 1591509925 {[2.48 2.8 3]}} {betvictor Bet Victor 1591509963 {[2.6 3 3]}} {marathonbet Marathon Bet 1591509893 {[2.6 2.91 3.12]}} {skybet Sky Bet 1591509783 {[2.45 2.7 2.9]}} {betfair Betfair 1591509893 {[1.01 2.72 2.86]}} {matchbook Matchbook 1591509909 {[2.15 2.4 2.5]}}]"
      ]
     },
     "execution_count": 111,
     "metadata": {},
     "output_type": "execute_result"
    }
   ],
   "source": [
    "first.Sites"
   ]
  },
  {
   "cell_type": "code",
   "execution_count": 112,
   "metadata": {},
   "outputs": [
    {
     "data": {
      "text/plain": [
       "{onexbet 1xBet 1591509773 {[2.62 2.9 3.12]}}"
      ]
     },
     "execution_count": 112,
     "metadata": {},
     "output_type": "execute_result"
    }
   ],
   "source": [
    "first.Sites[0]"
   ]
  },
  {
   "cell_type": "code",
   "execution_count": 113,
   "metadata": {},
   "outputs": [
    {
     "data": {
      "text/plain": [
       "{[2.62 2.9 3.12]}"
      ]
     },
     "execution_count": 113,
     "metadata": {},
     "output_type": "execute_result"
    }
   ],
   "source": [
    "first.Sites[0].Odds"
   ]
  },
  {
   "cell_type": "markdown",
   "metadata": {},
   "source": [
    "***"
   ]
  }
 ],
 "metadata": {
  "kernelspec": {
   "display_name": "Go",
   "language": "go",
   "name": "gophernotes"
  },
  "language_info": {
   "codemirror_mode": "",
   "file_extension": ".go",
   "mimetype": "",
   "name": "go",
   "nbconvert_exporter": "",
   "pygments_lexer": "",
   "version": "go1.11.4"
  }
 },
 "nbformat": 4,
 "nbformat_minor": 2
}
